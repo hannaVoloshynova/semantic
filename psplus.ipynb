{
 "cells": [
  {
   "cell_type": "code",
   "execution_count": 2,
   "metadata": {},
   "outputs": [],
   "source": [
    "from xml.dom.minidom import parseString\n",
    "from bs4 import BeautifulSoup\n",
    "import dicttoxml\n",
    "import requests\n",
    "import re"
   ]
  },
  {
   "cell_type": "code",
   "execution_count": 3,
   "metadata": {},
   "outputs": [],
   "source": [
    "url = 'https://store.playstation.com/ru-ua/home/games/psplus'\n",
    "\n",
    "r=requests.get(url).text\n",
    "soup=BeautifulSoup(r,'lxml')"
   ]
  },
  {
   "cell_type": "code",
   "execution_count": 4,
   "metadata": {},
   "outputs": [],
   "source": [
    "l=soup.find('div',class_='home__main-section-flex__bottom-left')"
   ]
  },
  {
   "cell_type": "code",
   "execution_count": 23,
   "metadata": {},
   "outputs": [],
   "source": [
    "def free(el,a,b):\n",
    "    try:\n",
    "        return el.find(a,class_=b).text\n",
    "    except:\n",
    "        return 'None'\n",
    "def free_hard(el,a,b,c,d):\n",
    "    return {'Бесплатно v.1':free(el,a,b),'Бесплатно v.2':free(el,c,d)}"
   ]
  },
  {
   "cell_type": "code",
   "execution_count": 24,
   "metadata": {},
   "outputs": [
    {
     "name": "stdout",
     "output_type": "stream",
     "text": [
      "----------\n",
      "----------\n",
      "----------\n",
      "----------\n",
      "----------\n",
      "----------\n",
      "----------\n",
      "----------\n",
      "----------\n",
      "----------\n",
      "----------\n",
      "----------\n"
     ]
    }
   ],
   "source": [
    "d=dict()\n",
    "for count,i in enumerate(l.find_all('div',class_='grid-cell__body')):\n",
    "    try:\n",
    "        d['Игра id=\"'+str(count+1)+'\"']={\n",
    "        'Название':free(i,'div','grid-cell__title').replace('\\n',''),\n",
    "        'Цена':free(i,'h3','price-display__price'),\n",
    "        'Версия':free(i,'div','grid-cell__left-detail grid-cell__left-detail--detail-2'),\n",
    "        'Платформа':free(i,'div','grid-cell__left-detail grid-cell__left-detail--detail-1'),\n",
    "        'Бесплатно':free_hard(i,'div','price-display__price--is-plus-upsell','h3','price-display__price--is-plus-exclusive')\n",
    "        }\n",
    "        print('----------')\n",
    "    except:\n",
    "        print('Nothing')"
   ]
  },
  {
   "cell_type": "code",
   "execution_count": 30,
   "metadata": {},
   "outputs": [],
   "source": [
    "xml = dicttoxml.dicttoxml(d,attr_type=False)\n",
    "doc = parseString(xml)\n",
    "doc.toprettyxml()\n",
    "file_ = open(\"psplus.xml\", \"w\",encoding='utf-8')\n",
    "try:\n",
    "    file_.write(doc.toprettyxml(indent=\"  \").replace('<key name=\"Игра id=&quot;','<Игра id=\"').replace('&quot;','').replace('/key','/Игра'))\n",
    "finally:\n",
    "    file_.close()"
   ]
  }
 ],
 "metadata": {
  "kernelspec": {
   "display_name": "Python 3",
   "language": "python",
   "name": "python3"
  },
  "language_info": {
   "codemirror_mode": {
    "name": "ipython",
    "version": 3
   },
   "file_extension": ".py",
   "mimetype": "text/x-python",
   "name": "python",
   "nbconvert_exporter": "python",
   "pygments_lexer": "ipython3",
   "version": "3.7.3"
  }
 },
 "nbformat": 4,
 "nbformat_minor": 4
}
